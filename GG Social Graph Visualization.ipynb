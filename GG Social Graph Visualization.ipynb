{
 "cells": [
  {
   "cell_type": "code",
   "execution_count": 1,
   "metadata": {},
   "outputs": [],
   "source": [
    "import networkx as nx\n",
    "import matplotlib.pyplot as plt\n",
    "import pandas as pd\n",
    "import numpy as np\n",
    "import community\n",
    "%matplotlib inline"
   ]
  },
  {
   "cell_type": "code",
   "execution_count": 2,
   "metadata": {},
   "outputs": [],
   "source": [
    "gg_data = pd.read_csv('adata_1jan.csv')"
   ]
  },
  {
   "cell_type": "code",
   "execution_count": 3,
   "metadata": {},
   "outputs": [
    {
     "data": {
      "text/html": [
       "<div>\n",
       "<style scoped>\n",
       "    .dataframe tbody tr th:only-of-type {\n",
       "        vertical-align: middle;\n",
       "    }\n",
       "\n",
       "    .dataframe tbody tr th {\n",
       "        vertical-align: top;\n",
       "    }\n",
       "\n",
       "    .dataframe thead th {\n",
       "        text-align: right;\n",
       "    }\n",
       "</style>\n",
       "<table border=\"1\" class=\"dataframe\">\n",
       "  <thead>\n",
       "    <tr style=\"text-align: right;\">\n",
       "      <th></th>\n",
       "      <th>user_id</th>\n",
       "      <th>active</th>\n",
       "      <th>friend_id</th>\n",
       "      <th>name</th>\n",
       "      <th>account_status</th>\n",
       "    </tr>\n",
       "  </thead>\n",
       "  <tbody>\n",
       "    <tr>\n",
       "      <th>0</th>\n",
       "      <td>12</td>\n",
       "      <td>active</td>\n",
       "      <td>13</td>\n",
       "      <td>Ekaparnika Abbott</td>\n",
       "      <td>ghost</td>\n",
       "    </tr>\n",
       "    <tr>\n",
       "      <th>1</th>\n",
       "      <td>12</td>\n",
       "      <td>active</td>\n",
       "      <td>14</td>\n",
       "      <td>Ekaparnika Abbott</td>\n",
       "      <td>ghost</td>\n",
       "    </tr>\n",
       "    <tr>\n",
       "      <th>2</th>\n",
       "      <td>12</td>\n",
       "      <td>active</td>\n",
       "      <td>15</td>\n",
       "      <td>Bala Nair</td>\n",
       "      <td>ghost</td>\n",
       "    </tr>\n",
       "    <tr>\n",
       "      <th>3</th>\n",
       "      <td>12</td>\n",
       "      <td>active</td>\n",
       "      <td>16</td>\n",
       "      <td>Bala Nair</td>\n",
       "      <td>ghost</td>\n",
       "    </tr>\n",
       "    <tr>\n",
       "      <th>4</th>\n",
       "      <td>12</td>\n",
       "      <td>active</td>\n",
       "      <td>17</td>\n",
       "      <td>Bala Nair</td>\n",
       "      <td>ghost</td>\n",
       "    </tr>\n",
       "  </tbody>\n",
       "</table>\n",
       "</div>"
      ],
      "text/plain": [
       "   user_id  active  friend_id               name account_status\n",
       "0       12  active         13  Ekaparnika Abbott          ghost\n",
       "1       12  active         14  Ekaparnika Abbott          ghost\n",
       "2       12  active         15          Bala Nair          ghost\n",
       "3       12  active         16          Bala Nair          ghost\n",
       "4       12  active         17          Bala Nair          ghost"
      ]
     },
     "execution_count": 3,
     "metadata": {},
     "output_type": "execute_result"
    }
   ],
   "source": [
    "gg_data.head()"
   ]
  },
  {
   "cell_type": "code",
   "execution_count": 4,
   "metadata": {},
   "outputs": [],
   "source": [
    "result = gg_data.sort_values(by=['friend_id'])"
   ]
  },
  {
   "cell_type": "code",
   "execution_count": 5,
   "metadata": {},
   "outputs": [],
   "source": [
    "node_list = set(gg_data['user_id'].values.tolist())"
   ]
  },
  {
   "cell_type": "code",
   "execution_count": 6,
   "metadata": {},
   "outputs": [],
   "source": [
    "edge_array = gg_data[['user_id','friend_id']].values\n",
    "edge_tuple = tuple(map(tuple, edge_array))"
   ]
  },
  {
   "cell_type": "code",
   "execution_count": 7,
   "metadata": {},
   "outputs": [],
   "source": [
    "Graph = nx.Graph()"
   ]
  },
  {
   "cell_type": "code",
   "execution_count": 8,
   "metadata": {},
   "outputs": [],
   "source": [
    "Graph.add_edges_from(edge_tuple)"
   ]
  },
  {
   "cell_type": "code",
   "execution_count": 9,
   "metadata": {},
   "outputs": [],
   "source": [
    "node_attr = {}\n",
    "for index, row in gg_data.iterrows():\n",
    "    node_attr[row['user_id']] = {'status': row['active']}\n",
    "    node_attr[row['friend_id']] = {'status': row['account_status']}"
   ]
  },
  {
   "cell_type": "code",
   "execution_count": 10,
   "metadata": {},
   "outputs": [
    {
     "name": "stdout",
     "output_type": "stream",
     "text": [
      "Name: \n",
      "Type: Graph\n",
      "Number of nodes: 116646\n",
      "Number of edges: 122700\n",
      "Average degree:   2.1038\n"
     ]
    }
   ],
   "source": [
    "print nx.info(Graph)"
   ]
  },
  {
   "cell_type": "code",
   "execution_count": 11,
   "metadata": {},
   "outputs": [
    {
     "name": "stdout",
     "output_type": "stream",
     "text": [
      "Name: \n",
      "Type: Graph\n",
      "Number of nodes: 3557\n",
      "Number of edges: 9665\n",
      "Average degree:   5.4344\n"
     ]
    }
   ],
   "source": [
    "remove = [node for node,degree in Graph.degree() if degree < 2]\n",
    "Graph.remove_nodes_from(remove)\n",
    "remove_0 = [node for node,degree in Graph.degree() if degree < 1]\n",
    "Graph.remove_nodes_from(remove_0)\n",
    "print nx.info(Graph)"
   ]
  },
  {
   "cell_type": "code",
   "execution_count": 12,
   "metadata": {},
   "outputs": [
    {
     "name": "stdout",
     "output_type": "stream",
     "text": [
      "5\n"
     ]
    }
   ],
   "source": [
    "nodes_to_keep = []\n",
    "for node in Graph.nodes():\n",
    "    if Graph.degree(node) > 400:\n",
    "        nodes_to_keep.append(node)\n",
    "print len(nodes_to_keep)"
   ]
  },
  {
   "cell_type": "code",
   "execution_count": 13,
   "metadata": {},
   "outputs": [],
   "source": [
    "edge_list = list(Graph.edges())\n",
    "for index, val in enumerate(edge_list):\n",
    "    if val[0] in nodes_to_keep:\n",
    "        pass \n",
    "    else:\n",
    "        del edge_list[index]"
   ]
  },
  {
   "cell_type": "code",
   "execution_count": 14,
   "metadata": {},
   "outputs": [],
   "source": [
    "newGraph = nx.Graph()"
   ]
  },
  {
   "cell_type": "code",
   "execution_count": 15,
   "metadata": {},
   "outputs": [],
   "source": [
    "newGraph.add_edges_from(edge_list)"
   ]
  },
  {
   "cell_type": "code",
   "execution_count": 16,
   "metadata": {},
   "outputs": [
    {
     "name": "stdout",
     "output_type": "stream",
     "text": [
      "Name: \n",
      "Type: Graph\n",
      "Number of nodes: 2874\n",
      "Number of edges: 5841\n",
      "Average degree:   4.0647\n"
     ]
    }
   ],
   "source": [
    "print nx.info(newGraph)"
   ]
  },
  {
   "cell_type": "code",
   "execution_count": 17,
   "metadata": {},
   "outputs": [],
   "source": [
    "nx.set_node_attributes(newGraph, node_attr)"
   ]
  },
  {
   "cell_type": "code",
   "execution_count": 18,
   "metadata": {},
   "outputs": [],
   "source": [
    "active_nodes = [n for (n,s) in nx.get_node_attributes(newGraph,'status').iteritems() if s == 'active']\n",
    "ghost_nodes = [n for (n,s) in  nx.get_node_attributes(newGraph,'status').iteritems() if s == 'ghost']"
   ]
  },
  {
   "cell_type": "code",
   "execution_count": 19,
   "metadata": {},
   "outputs": [],
   "source": [
    "#Create network layout for visualizations\n",
    "spring_pos = nx.spring_layout(newGraph)"
   ]
  },
  {
   "cell_type": "code",
   "execution_count": 20,
   "metadata": {},
   "outputs": [
    {
     "data": {
      "image/png": "[encoded data removed]",
      "text/plain": [
       "<Figure size 432x288 with 1 Axes>"
      ]
     },
     "metadata": {
      "needs_background": "light"
     },
     "output_type": "display_data"
    }
   ],
   "source": [
    "plt.axis(\"off\")\n",
    "d=dict(nx.degree(newGraph))\n",
    "nx.draw_networkx(newGraph, pos = spring_pos, nodelist=d.keys(), node_color = ['green' if newGraph.node[n]['status'] == 'ghost' else 'red' for n in d.keys()], with_labels = False, node_size=[v for v in d.values()])"
   ]
  },
  {
   "cell_type": "code",
   "execution_count": 21,
   "metadata": {},
   "outputs": [],
   "source": [
    "parts = community.best_partition(newGraph)\n",
    "values = [parts.get(node) for node in newGraph.nodes()]"
   ]
  },
  {
   "cell_type": "code",
   "execution_count": 22,
   "metadata": {},
   "outputs": [
    {
     "data": {
      "image/png": "[encoded data removed]",
      "text/plain": [
       "<Figure size 432x288 with 1 Axes>"
      ]
     },
     "metadata": {
      "needs_background": "light"
     },
     "output_type": "display_data"
    }
   ],
   "source": [
    "plt.axis(\"off\")\n",
    "nx.draw_networkx(newGraph, pos = spring_pos, cmap = plt.get_cmap(\"jet\"), node_color = values, node_size = 35, with_labels = False)"
   ]
  },
  {
   "cell_type": "code",
   "execution_count": null,
   "metadata": {},
   "outputs": [],
   "source": []
  }
 ],
 "metadata": {
  "kernelspec": {
   "display_name": "Python 2",
   "language": "python",
   "name": "python2"
  },
  "language_info": {
   "codemirror_mode": {
    "name": "ipython",
    "version": 2
   },
   "file_extension": ".py",
   "mimetype": "text/x-python",
   "name": "python",
   "nbconvert_exporter": "python",
   "pygments_lexer": "ipython2",
   "version": "2.7.15"
  }
 },
 "nbformat": 4,
 "nbformat_minor": 2
}
